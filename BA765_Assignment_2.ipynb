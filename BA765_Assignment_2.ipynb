{
  "nbformat": 4,
  "nbformat_minor": 0,
  "metadata": {
    "colab": {
      "name": "BA765_Assignment_2.ipynb",
      "provenance": [],
      "collapsed_sections": [],
      "include_colab_link": true
    },
    "kernelspec": {
      "name": "python3",
      "display_name": "Python 3"
    }
  },
  "cells": [
    {
      "cell_type": "markdown",
      "metadata": {
        "id": "view-in-github",
        "colab_type": "text"
      },
      "source": [
        "<a href=\"https://colab.research.google.com/github/David855008/ba765-assignments/blob/main/BA765_Assignment_2.ipynb\" target=\"_parent\"><img src=\"https://colab.research.google.com/assets/colab-badge.svg\" alt=\"Open In Colab\"/></a>"
      ]
    },
    {
      "cell_type": "markdown",
      "metadata": {
        "id": "mzv8h94p1lp9"
      },
      "source": [
        "# Assignment 2\n",
        "\n",
        "Complete the questions below by answering each question using the appropriate variable name. Do not change the variable names.  \n",
        "\n",
        "To keep the file sizes small, I provide you with very low volume of data, but this does not mean you should use visual inspection. For example, if the maximum value of a list is asked, find it via code, not via visual inspection. \n",
        "\n",
        "Once you completed this assignment, upload the notebook to your GitHub repository (same one that you used for assignment 1) and export your work also as `a2.py` (with this name and format) and submit to QuestromTools course site.\n",
        "\n",
        "ENJOY!"
      ]
    },
    {
      "cell_type": "markdown",
      "metadata": {
        "id": "81VWGDeE2Khh"
      },
      "source": [
        "# Question 1:\n"
      ]
    },
    {
      "cell_type": "code",
      "metadata": {
        "id": "6S3uH33EH4k6",
        "colab": {
          "base_uri": "https://localhost:8080/"
        },
        "outputId": "ef80fbd3-8c6c-4bdd-de98-185d46d53c81"
      },
      "source": [
        "# STARTER CODE\n",
        "\n",
        "# imports\n",
        "import requests\n",
        "\n",
        "# the URL\n",
        "URL = \"https://www.metaweather.com/api/location/search/?query=boston\"\n",
        "\n",
        "# the API response setup for this question\n",
        "resp = requests.get(URL).json()\n",
        "print(resp)\n",
        "type(resp)"
      ],
      "execution_count": null,
      "outputs": [
        {
          "output_type": "stream",
          "text": [
            "[{'title': 'Boston', 'location_type': 'City', 'woeid': 2367105, 'latt_long': '42.358631,-71.056702'}]\n"
          ],
          "name": "stdout"
        },
        {
          "output_type": "execute_result",
          "data": {
            "text/plain": [
              "list"
            ]
          },
          "metadata": {
            "tags": []
          },
          "execution_count": 3
        }
      ]
    },
    {
      "cell_type": "code",
      "metadata": {
        "id": "By9Oc7syIW4u",
        "colab": {
          "base_uri": "https://localhost:8080/"
        },
        "outputId": "6731de45-edfa-48bc-c13b-cb7ad0338aaa"
      },
      "source": [
        "# Q1:  save a variable q1_1, which _extracts_ the dictionary from the variable resp provided\n",
        "#      to you in the starter code for Question 1\n",
        "q1_1 = resp[0]\n",
        "print(q1_1)\n",
        "print(type(q1_1))"
      ],
      "execution_count": null,
      "outputs": [
        {
          "output_type": "stream",
          "text": [
            "{'title': 'Boston', 'location_type': 'City', 'woeid': 2367105, 'latt_long': '42.358631,-71.056702'}\n",
            "<class 'dict'>\n"
          ],
          "name": "stdout"
        }
      ]
    },
    {
      "cell_type": "code",
      "metadata": {
        "id": "g-7uAzeFI0_f",
        "colab": {
          "base_uri": "https://localhost:8080/"
        },
        "outputId": "302d5eab-df76-4e0c-8a69-8dd8d312d4e7"
      },
      "source": [
        "# Q2: In the variable q1_2, save the keys of the dictionary in q1 as a list\n",
        "q1_2 = list(q1_1.keys())\n",
        "print(q1_2)\n",
        "print(type(q1_2))"
      ],
      "execution_count": null,
      "outputs": [
        {
          "output_type": "stream",
          "text": [
            "['title', 'location_type', 'woeid', 'latt_long']\n",
            "<class 'list'>\n"
          ],
          "name": "stdout"
        }
      ]
    },
    {
      "cell_type": "code",
      "metadata": {
        "id": "hzwzYD3vI1H1",
        "colab": {
          "base_uri": "https://localhost:8080/"
        },
        "outputId": "93faad48-408b-49ff-a433-7060dbec7146"
      },
      "source": [
        "# Q3: extract the latitude (lat) and longitude (lng) from the dictionary\n",
        "#     Each value should be a float\n",
        "#     TIP: the dictionary key provides guidance on the order\n",
        "x = q1_1.get('latt_long').split(',')\n",
        "lat = float(x[0])\n",
        "lng = float(x[1])\n",
        "print(lat)\n",
        "print(lng)"
      ],
      "execution_count": null,
      "outputs": [
        {
          "output_type": "stream",
          "text": [
            "42.358631\n",
            "-71.056702\n"
          ],
          "name": "stdout"
        }
      ]
    },
    {
      "cell_type": "code",
      "metadata": {
        "id": "qUsFGz-4I1LU",
        "colab": {
          "base_uri": "https://localhost:8080/"
        },
        "outputId": "13c9cf72-c323-4ee0-f1f7-4bc90320bced"
      },
      "source": [
        "# Q4: using the dictionary key woeid from q1, keep only the even numbers from the id\n",
        "#     save the values as seperate entries in a list. Save this list as the variable q1_4\n",
        "q1_4 = []\n",
        "i = q1_1.get('woeid')\n",
        "print(i)\n",
        "while i > 0:\n",
        "  q1_4 = [int(i%10)] + q1_4\n",
        "  i=int(i/10)\n",
        "print(q1_4)"
      ],
      "execution_count": null,
      "outputs": [
        {
          "output_type": "stream",
          "text": [
            "2367105\n",
            "[2, 3, 6, 7, 1, 0, 5]\n"
          ],
          "name": "stdout"
        }
      ]
    },
    {
      "cell_type": "markdown",
      "metadata": {
        "id": "WhPv5Ew0Mq-k"
      },
      "source": [
        "# Question 2\n",
        "\n",
        "You have been provided a file that can be read in with the following code:\n",
        "\n",
        "```\n",
        "import pickle\n",
        "with open('q2.pkl', 'rb') as file:\n",
        "  jokes = pickle.load(file)\n",
        "```\n",
        "\n",
        "In your session, `jokes` is a list of dictionaries.  You will use this object to answer the questions below.\n",
        "\n",
        "> Hint:  If you are using Google Colab, you will need to upload the `q2.pkl` file in your gDrive or to the Colab Sesssion. "
      ]
    },
    {
      "cell_type": "code",
      "metadata": {
        "colab": {
          "base_uri": "https://localhost:8080/"
        },
        "id": "Idpb392OcyeQ",
        "outputId": "5a2b39c4-8a4d-422d-88fc-32f9e09a711b"
      },
      "source": [
        "import pickle\n",
        "with open('q2.pkl', 'rb') as file:\n",
        "  jokes = pickle.load(file)\n",
        "print(jokes)\n",
        "print(type(jokes))\n",
        "print(len(jokes))"
      ],
      "execution_count": null,
      "outputs": [
        {
          "output_type": "stream",
          "text": [
            "[{'type': 'success', 'value': {'id': 100, 'joke': 'Chuck Norris grinds his coffee with his teeth and boils the water with his own rage.', 'categories': ['plain']}}, {'type': 'success', 'value': {'id': 150, 'joke': 'Superman once watched an episode of Walker, Texas Ranger. He then cried himself to sleep.', 'categories': ['dad joke']}}, {'type': 'success', 'value': {'id': 250, 'joke': 'The truth will set you free. Unless Chuck Norris has you, in which case, forget it buddy!', 'categories': ['bad joke']}}, {'type': 'success', 'value': {'id': 480, 'joke': 'The class object inherits from Chuck Norris', 'categories': ['nerdy']}}, {'type': 'success', 'value': {'id': 490, 'joke': \"Chuck Norris doesn't need to use AJAX because pages are too afraid to postback anyways.\", 'categories': ['nerdy']}}]\n",
            "<class 'list'>\n",
            "5\n"
          ],
          "name": "stdout"
        }
      ]
    },
    {
      "cell_type": "code",
      "metadata": {
        "colab": {
          "base_uri": "https://localhost:8080/"
        },
        "id": "vxmF7Qmkn8zh",
        "outputId": "f41437f5-e11d-4a6f-8585-3c208a25d9bb"
      },
      "source": [
        "q2_1 = set({})\n",
        "for var1 in jokes:\n",
        "  q2_1 = q2_1.union(set(var1.get('value').get('categories')))\n",
        "print(q2_1)"
      ],
      "execution_count": null,
      "outputs": [
        {
          "output_type": "stream",
          "text": [
            "{'nerdy', 'bad joke', 'plain', 'dad joke'}\n"
          ],
          "name": "stdout"
        }
      ]
    },
    {
      "cell_type": "code",
      "metadata": {
        "id": "ZbHfSisTMC8A",
        "colab": {
          "base_uri": "https://localhost:8080/"
        },
        "outputId": "289d3d2f-9d22-42cb-ed75-74f93b721d2a"
      },
      "source": [
        "# Q1:  q2_1 should represent a set of the values from the categories key.\n",
        "q2_1 = set({})\n",
        "for var1 in jokes:\n",
        "  q2_1 = q2_1.union(set(var1.get('value').get('categories')))\n",
        "print(q2_1)"
      ],
      "execution_count": null,
      "outputs": [
        {
          "output_type": "stream",
          "text": [
            "{'nerdy', 'bad joke', 'plain', 'dad joke'}\n"
          ],
          "name": "stdout"
        }
      ]
    },
    {
      "cell_type": "code",
      "metadata": {
        "id": "Wpc1ehwYN0bP",
        "colab": {
          "base_uri": "https://localhost:8080/"
        },
        "outputId": "c3fab579-d47f-49e3-a202-db72ba65884c"
      },
      "source": [
        "# Q2: What is the largest value (max) across the key id.  Save this value as q2_2\n",
        "q2_2 = 0\n",
        "for var1 in jokes:\n",
        "  if var1.get('value').get('id') > q2_2:\n",
        "    q2_2 = var1.get('value').get('id')\n",
        "print(q2_2)"
      ],
      "execution_count": null,
      "outputs": [
        {
          "output_type": "stream",
          "text": [
            "490\n"
          ],
          "name": "stdout"
        }
      ]
    },
    {
      "cell_type": "code",
      "metadata": {
        "id": "NDBlwbi3N0gY",
        "colab": {
          "base_uri": "https://localhost:8080/"
        },
        "outputId": "46bdacc0-9202-46be-d3ca-1a8b138203a3"
      },
      "source": [
        "# Q3: Each entry of jokes has a joke key.  This is a sentence pulled randomly from an online jokes api.  \n",
        "#     Remove the following characters '.,!' (punctuation present in these jokes)\n",
        "#     Make the text lower case.\n",
        "#     Add each word in each entry as a key to a dictionary you store in the variable q2_3 below.\n",
        "#     The value for each key should represent the total number of times the word appeared across the jokes object\n",
        "#     Summary: q2_3 should be a dictionary of word:count pairs, where count is the number of times the word appeared\n",
        "#              across all entries of jokes in the joke key\n",
        "#     \n",
        "q2_3 = {}\n",
        "all_jokes = ''\n",
        "for var1 in jokes:\n",
        "  all_jokes += var1.get('value').get('joke').lower().replace('.','').replace(',','').replace('!','') + \" \"\n",
        "for var2 in all_jokes.split(\" \"):\n",
        "  if var2 == '':\n",
        "    continue\n",
        "  elif var2 in q2_3.keys():\n",
        "    q2_3[var2] += 1\n",
        "  else:\n",
        "    q2_3[var2] = 1\n",
        "print(q2_3)"
      ],
      "execution_count": null,
      "outputs": [
        {
          "output_type": "stream",
          "text": [
            "{'chuck': 4, 'norris': 4, 'grinds': 1, 'his': 3, 'coffee': 1, 'with': 2, 'teeth': 1, 'and': 1, 'boils': 1, 'the': 3, 'water': 1, 'own': 1, 'rage': 1, 'superman': 1, 'once': 1, 'watched': 1, 'an': 1, 'episode': 1, 'of': 1, 'walker': 1, 'texas': 1, 'ranger': 1, 'he': 1, 'then': 1, 'cried': 1, 'himself': 1, 'to': 3, 'sleep': 1, 'truth': 1, 'will': 1, 'set': 1, 'you': 2, 'free': 1, 'unless': 1, 'has': 1, 'in': 1, 'which': 1, 'case': 1, 'forget': 1, 'it': 1, 'buddy': 1, 'class': 1, 'object': 1, 'inherits': 1, 'from': 1, \"doesn't\": 1, 'need': 1, 'use': 1, 'ajax': 1, 'because': 1, 'pages': 1, 'are': 1, 'too': 1, 'afraid': 1, 'postback': 1, 'anyways': 1}\n"
          ],
          "name": "stdout"
        }
      ]
    },
    {
      "cell_type": "markdown",
      "metadata": {
        "id": "Y1PXAz_7y2ze"
      },
      "source": [
        "# Question 3\n",
        "\n",
        "Write a function called `guessing_game` that satisfies the following requirements:\n",
        "\n",
        "1.  When the function is called, the user is prompted to guess a word\n",
        "1.  The function, internally, will randomly choose a word for the game.  The population of word (the word list) is shown below.\n",
        "1.  If the user does not guess the proper word, the user should be prompted again to try another guess\n",
        "1.  The user is only allowed 3 guesses.  If the user fails to guess the chosen word after 3 attempts, the message `Sorry, the game is over.` should be printed to the screen.\n",
        "1.  If the user enters a word not part of the list below, the message `That word is not part of the vocabulary.` should be printed to the screen.  However, if this situation occurs during the 3rd failed guess, only the message in step 4 should be printed.\n",
        "1.  If the user correctly guesses the word, the message `Correct! Well Done.` should be printed on the screen.\n",
        "1.  If a string is not input by the user, the function should print `You did not guess a string, Game Over!` and end the game. You can use `string` package as in `string.ascii_letters` to guarantee that the entry is a string semantically.\n",
        "\n",
        "\n",
        "\n",
        "The word list that should be used by the function:\n",
        "\n",
        "- `numpy`\n",
        "- `seaborn`\n",
        "- `pandas`\n",
        "- `pantab`\n",
        "- `spacy`\n",
        "- `requests`\n",
        "- `tensorflow`\n",
        "\n"
      ]
    },
    {
      "cell_type": "code",
      "metadata": {
        "id": "YdSB88Mi3r3f",
        "colab": {
          "base_uri": "https://localhost:8080/"
        },
        "outputId": "75aee890-503a-4b45-dbfa-7f5cbf4e3375"
      },
      "source": [
        "# build your function below\n",
        "import string\n",
        "import re\n",
        "ans = ['numpy','seaborn','pandas','pantab','spacy','requests','tensorflow']\n",
        "def guessing_game():\n",
        "  counter = 3\n",
        "  while counter > 0:\n",
        "    guess = input()\n",
        "    if guess in ans:\n",
        "      print(\"Correct! Well Done.\")\n",
        "      break\n",
        "    else:\n",
        "      if guess.isdigit() or re.match(r'^[0-9]+(\\.[0-9]+)?$',guess):\n",
        "        print(\"You did not guess a string, Game Over!\")\n",
        "        break\n",
        "      else:\n",
        "        if counter >1:\n",
        "          print(\"That word is not part of the vocabulary.\")\n",
        "        counter -= 1\n",
        "  if not counter:\n",
        "    print(\"Sorry, the game is over.\")\n",
        "guessing_game()"
      ],
      "execution_count": 135,
      "outputs": [
        {
          "output_type": "stream",
          "text": [
            "tensorflow\n",
            "Correct! Well Done.\n"
          ],
          "name": "stdout"
        }
      ]
    },
    {
      "cell_type": "code",
      "metadata": {
        "id": "I6cJ1ga_FuLR"
      },
      "source": [
        ""
      ],
      "execution_count": null,
      "outputs": []
    }
  ]
}