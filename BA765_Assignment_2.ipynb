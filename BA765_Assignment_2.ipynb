{
  "nbformat": 4,
  "nbformat_minor": 0,
  "metadata": {
    "colab": {
      "name": "BA765_Assignment_2.ipynb",
      "provenance": [],
      "collapsed_sections": [],
      "include_colab_link": true
    },
    "kernelspec": {
      "name": "python3",
      "display_name": "Python 3"
    }
  },
  "cells": [
    {
      "cell_type": "markdown",
      "metadata": {
        "id": "view-in-github",
        "colab_type": "text"
      },
      "source": [
        "<a href=\"https://colab.research.google.com/github/David855008/ba765-assignments/blob/main/BA765_Assignment_2.ipynb\" target=\"_parent\"><img src=\"https://colab.research.google.com/assets/colab-badge.svg\" alt=\"Open In Colab\"/></a>"
      ]
    },
    {
      "cell_type": "markdown",
      "metadata": {
        "id": "mzv8h94p1lp9"
      },
      "source": [
        "# Assignment 2\n",
        "\n",
        "Complete the questions below by answering each question using the appropriate variable name. Do not change the variable names.  \n",
        "\n",
        "To keep the file sizes small, I provide you with very low volume of data, but this does not mean you should use visual inspection. For example, if the maximum value of a list is asked, find it via code, not via visual inspection. \n",
        "\n",
        "Once you completed this assignment, upload the notebook to your GitHub repository (same one that you used for assignment 1) and export your work also as `a2.py` (with this name and format) and submit to QuestromTools course site.\n",
        "\n",
        "ENJOY!"
      ]
    },
    {
      "cell_type": "markdown",
      "metadata": {
        "id": "81VWGDeE2Khh"
      },
      "source": [
        "# Question 1:\n"
      ]
    },
    {
      "cell_type": "code",
      "metadata": {
        "id": "6S3uH33EH4k6"
      },
      "source": [
        "# STARTER CODE\n",
        "\n",
        "# imports\n",
        "import requests\n",
        "\n",
        "# the URL\n",
        "URL = \"https://www.metaweather.com/api/location/search/?query=boston\"\n",
        "\n",
        "# the API response setup for this question\n",
        "resp = requests.get(URL).json()"
      ],
      "execution_count": null,
      "outputs": []
    },
    {
      "cell_type": "code",
      "metadata": {
        "id": "By9Oc7syIW4u"
      },
      "source": [
        "# Q1:  save a variable q1_1, which _extracts_ the dictionary from the variable resp provided\n",
        "#      to you in the starter code for Question 1\n",
        "q1_1 = \n",
        "\n",
        "\n"
      ],
      "execution_count": null,
      "outputs": []
    },
    {
      "cell_type": "code",
      "metadata": {
        "id": "g-7uAzeFI0_f"
      },
      "source": [
        "# Q2: In the variable q1_2, save the keys of the dictionary in q1 as a list\n",
        "q1_2 = \n",
        "\n"
      ],
      "execution_count": null,
      "outputs": []
    },
    {
      "cell_type": "code",
      "metadata": {
        "id": "hzwzYD3vI1H1"
      },
      "source": [
        "# Q3: extract the latitude (lat) and longitude (lng) from the dictionary\n",
        "#     Each value should be a float\n",
        "#     TIP: the dictionary key provides guidance on the order\n",
        "\n",
        "lat =\n",
        "lng =\n",
        "\n",
        "\n"
      ],
      "execution_count": null,
      "outputs": []
    },
    {
      "cell_type": "code",
      "metadata": {
        "id": "qUsFGz-4I1LU"
      },
      "source": [
        "# Q4: using the dictionary key woeid from q1, keep only the even numbers from the id\n",
        "#     save the values as seperate entries in a list. Save this list as the variable q1_4\n",
        "\n",
        "q1_4 = \n",
        "\n",
        "\n",
        "\n"
      ],
      "execution_count": null,
      "outputs": []
    },
    {
      "cell_type": "markdown",
      "metadata": {
        "id": "WhPv5Ew0Mq-k"
      },
      "source": [
        "# Question 2\n",
        "\n",
        "You have been provided a file that can be read in with the following code:\n",
        "\n",
        "```\n",
        "import pickle\n",
        "with open('q2.pkl', 'rb') as file:\n",
        "  jokes = pickle.load(file)\n",
        "```\n",
        "\n",
        "In your session, `jokes` is a list of dictionaries.  You will use this object to answer the questions below.\n",
        "\n",
        "> Hint:  If you are using Google Colab, you will need to upload the `q2.pkl` file in your gDrive or to the Colab Sesssion. "
      ]
    },
    {
      "cell_type": "code",
      "metadata": {
        "id": "ZbHfSisTMC8A"
      },
      "source": [
        "# Q1:  q2_1 should represent a set of the values from the categories key.\n",
        "\n",
        "q2_1 = "
      ],
      "execution_count": null,
      "outputs": []
    },
    {
      "cell_type": "code",
      "metadata": {
        "id": "Wpc1ehwYN0bP"
      },
      "source": [
        "# Q2: What is the largest value (max) across the key id.  Save this value as q2_2\n",
        "q2_2 = "
      ],
      "execution_count": null,
      "outputs": []
    },
    {
      "cell_type": "code",
      "metadata": {
        "id": "NDBlwbi3N0gY"
      },
      "source": [
        "# Q3: Each entry of jokes has a joke key.  This is a sentence pulled randomly from an online jokes api.  \n",
        "#     Remove the following characters '.,!' (punctuation present in these jokes)\n",
        "#     Make the text lower case.\n",
        "#     Add each word in each entry as a key to a dictionary you store in the variable q2_3 below.\n",
        "#     The value for each key should represent the total number of times the word appeared across the jokes object\n",
        "#     Summary: q2_3 should be a dictionary of word:count pairs, where count is the number of times the word appeared\n",
        "#              across all entries of jokes in the joke key\n",
        "#     \n",
        "q2_3 = \n",
        "\n",
        "\n"
      ],
      "execution_count": null,
      "outputs": []
    },
    {
      "cell_type": "markdown",
      "metadata": {
        "id": "Y1PXAz_7y2ze"
      },
      "source": [
        "# Question 3\n",
        "\n",
        "Write a function called `guessing_game` that satisfies the following requirements:\n",
        "\n",
        "1.  When the function is called, the user is prompted to guess a word\n",
        "1.  The function, internally, will randomly choose a word for the game.  The population of word (the word list) is shown below.\n",
        "1.  If the user does not guess the proper word, the user should be prompted again to try another guess\n",
        "1.  The user is only allowed 3 guesses.  If the user fails to guess the chosen word after 3 attempts, the message `Sorry, the game is over.` should be printed to the screen.\n",
        "1.  If the user enters a word not part of the list below, the message `That word is not part of the vocabulary.` should be printed to the screen.  However, if this situation occurs during the 3rd failed guess, only the message in step 4 should be printed.\n",
        "1.  If the user correctly guesses the word, the message `Correct! Well Done.` should be printed on the screen.\n",
        "1.  If a string is not input by the user, the function should print `You did not guess a string, Game Over!` and end the game. You can use `string` package as in `string.ascii_letters` to guarantee that the entry is a string semantically.\n",
        "\n",
        "\n",
        "\n",
        "The word list that should be used by the function:\n",
        "\n",
        "- `numpy`\n",
        "- `seaborn`\n",
        "- `pandas`\n",
        "- `pantab`\n",
        "- `spacy`\n",
        "- `requests`\n",
        "- `tensorflow`\n",
        "\n"
      ]
    },
    {
      "cell_type": "code",
      "metadata": {
        "id": "YdSB88Mi3r3f"
      },
      "source": [
        "# build your function below\n",
        "def guessing_game\n",
        "\n",
        "\n",
        "\n",
        "\n",
        "\n",
        "\n"
      ],
      "execution_count": null,
      "outputs": []
    }
  ]
}